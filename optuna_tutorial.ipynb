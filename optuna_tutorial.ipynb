{
 "cells": [
  {
   "cell_type": "markdown",
   "metadata": {
    "slideshow": {
     "slide_type": "slide"
    }
   },
   "source": [
    "\n",
    "# Hyperparameter Optimization with Optuna\n",
    "\n",
    "Tutorial\n",
    "\n",
    "### Jefferson Fialho Coelho\n"
   ]
  },
  {
   "cell_type": "code",
   "execution_count": 5,
   "metadata": {
    "slideshow": {
     "slide_type": "skip"
    }
   },
   "outputs": [],
   "source": [
    "import optuna\n",
    "from optuna.visualization import plot_contour\n",
    "from optuna.visualization import plot_edf\n",
    "from optuna.visualization import plot_intermediate_values\n",
    "from optuna.visualization import plot_optimization_history\n",
    "from optuna.visualization import plot_parallel_coordinate\n",
    "from optuna.visualization import plot_param_importances\n",
    "from optuna.visualization import plot_slice\n",
    "from optuna.trial import TrialState\n",
    "from optuna.importance import MeanDecreaseImpurityImportanceEvaluator"
   ]
  },
  {
   "cell_type": "markdown",
   "metadata": {
    "slideshow": {
     "slide_type": "slide"
    }
   },
   "source": [
    "## Optuna: Optimization Framework\n",
    "    \n",
    "### Paper:\n",
    "[**Optuna: A Next-generation Hyperparameter Optimization Framework. In KDD.**](https://arxiv.org/abs/1907.10902)\n",
    "\n",
    "Takuya Akiba, Shotaro Sano, Toshihiko Yanase, Takeru Ohta,and Masanori Koyama. 2019.\n",
    "\n",
    "KDD '19: Proceedings of the 25th ACM SIGKDD International Conference on Knowledge Discovery & Data Mining"
   ]
  },
  {
   "cell_type": "markdown",
   "metadata": {
    "slideshow": {
     "slide_type": "slide"
    }
   },
   "source": [
    "### Overview of Optuna’s system design\n",
    "<img src=\"img/optuna_flow.png\"/>"
   ]
  },
  {
   "cell_type": "markdown",
   "metadata": {
    "slideshow": {
     "slide_type": "slide"
    }
   },
   "source": [
    "## Optuna Key features\n",
    "\n",
    "* Eager search spaces using bayesian methods with pruning system\n",
    "* Efficiently search large spaces (Using prune unpromising trials for faster results)\n",
    "  * Asynchronous Successive Halving (ASHA)\n",
    "    * combine random search with principled early stopping in an asynchronous way\n",
    "* Easy to parallelize hyperparameter searches over multiple threads/processes\n",
    "  * We just need to run the python script passing the DB path"
   ]
  },
  {
   "cell_type": "markdown",
   "metadata": {
    "slideshow": {
     "slide_type": "slide"
    }
   },
   "source": [
    "# How to install?"
   ]
  },
  {
   "cell_type": "markdown",
   "metadata": {
    "slideshow": {
     "slide_type": "fragment"
    }
   },
   "source": [
    "```\n",
    "!pip install optuna\n",
    "```"
   ]
  },
  {
   "cell_type": "markdown",
   "metadata": {
    "slideshow": {
     "slide_type": "slide"
    }
   },
   "source": [
    "# Default pipeline"
   ]
  },
  {
   "cell_type": "markdown",
   "metadata": {
    "slideshow": {
     "slide_type": "fragment"
    }
   },
   "source": [
    "* Create a wrapper of your main algorithm to be optimized that receives an optuna object called `trial`"
   ]
  },
  {
   "cell_type": "markdown",
   "metadata": {
    "slideshow": {
     "slide_type": "fragment"
    }
   },
   "source": [
    "```\n",
    "def objective(trial):\n",
    "    ...\n",
    "```"
   ]
  },
  {
   "cell_type": "markdown",
   "metadata": {
    "slideshow": {
     "slide_type": "slide"
    }
   },
   "source": [
    "* Inside your `objective` function, use `optuna` methods to define your hiperparameters range:\n",
    "   * `optuna.trial.Trial.suggest_categorical()` for categorical parameters\n",
    "   * `optuna.trial.Trial.suggest_int()` for integer parameters\n",
    "   * `optuna.trial.Trial.suggest_float()` for floating point parameters"
   ]
  },
  {
   "cell_type": "markdown",
   "metadata": {
    "slideshow": {
     "slide_type": "fragment"
    }
   },
   "source": [
    "E.g.:\n",
    "```\n",
    "# Categorical parameter\n",
    "optimizer = trial.suggest_categorical(\"optimizer\", [\"MomentumSGD\", \"Adam\"])\n",
    "\n",
    "# Integer parameter\n",
    "num_layers = trial.suggest_int(\"num_layers\", 1, 3)\n",
    "\n",
    "# Integer parameter (log)\n",
    "num_channels = trial.suggest_int(\"num_channels\", 32, 512, log=True)\n",
    "\n",
    "# Integer parameter (discretized)\n",
    "num_units = trial.suggest_int(\"num_units\", 10, 100, step=5)\n",
    "\n",
    "# Floating point parameter\n",
    "dropout_rate = trial.suggest_float(\"dropout_rate\", 0.0, 1.0)\n",
    "```"
   ]
  },
  {
   "cell_type": "markdown",
   "metadata": {
    "slideshow": {
     "slide_type": "slide"
    }
   },
   "source": [
    "* The `objective` function needs to return an evaluation parameter to be `maximized` or `minimized`\n",
    "   * E.g.:\n",
    "      * `maximization` of accuracy\n",
    "      * `minimization` of EMD"
   ]
  },
  {
   "cell_type": "markdown",
   "metadata": {
    "slideshow": {
     "slide_type": "fragment"
    }
   },
   "source": [
    "* To provide data for `pruning` function works, we need to send an intermediate evaluation parameter value to `optuna` object\n",
    "\n",
    "```\n",
    "...\n",
    "trial.report(accuracy, epoch)\n",
    "\n",
    "if trial.should_prune():\n",
    "    raise optuna.exceptions.TrialPruned()\n",
    "...\n",
    "```"
   ]
  },
  {
   "cell_type": "markdown",
   "metadata": {
    "slideshow": {
     "slide_type": "slide"
    }
   },
   "source": [
    "* Create a `study` object to call the `object` function:\n",
    "   * set the study name (the name of database table)\n",
    "   * set a database to store the experiment data\n",
    "   * set `load_if_exists=True` if you want to use a database that you already created \n",
    "   * set the optimization direction (`maximize` or `minimize`)"
   ]
  },
  {
   "cell_type": "code",
   "execution_count": 6,
   "metadata": {
    "slideshow": {
     "slide_type": "fragment"
    }
   },
   "outputs": [
    {
     "name": "stderr",
     "output_type": "stream",
     "text": [
      "\u001b[32m[I 2022-04-06 13:46:57,711]\u001b[0m Using an existing study with name 'opt_tutorial' instead of creating a new one.\u001b[0m\n"
     ]
    }
   ],
   "source": [
    "study = optuna.create_study(\n",
    "    study_name='opt_tutorial',\n",
    "    storage='sqlite:///tutorial.db',\n",
    "    load_if_exists=True,\n",
    "    direction=\"maximize\")"
   ]
  },
  {
   "cell_type": "markdown",
   "metadata": {
    "slideshow": {
     "slide_type": "slide"
    }
   },
   "source": [
    "* Run the optimization loop:"
   ]
  },
  {
   "cell_type": "markdown",
   "metadata": {
    "slideshow": {
     "slide_type": "fragment"
    }
   },
   "source": [
    "```\n",
    "study.optimize(objective, n_trials=50,timeout=None)\n",
    "```"
   ]
  },
  {
   "cell_type": "markdown",
   "metadata": {
    "slideshow": {
     "slide_type": "slide"
    }
   },
   "source": [
    "* To check the values after (or while) optimization loop:"
   ]
  },
  {
   "cell_type": "code",
   "execution_count": 7,
   "metadata": {
    "slideshow": {
     "slide_type": "fragment"
    }
   },
   "outputs": [
    {
     "name": "stdout",
     "output_type": "stream",
     "text": [
      "Best trial:\n",
      "    Value:  0.828125\n",
      "Params: \n",
      "    dropout_l0: 0.29733833743419186\n",
      "    dropout_l1: 0.18955128033949867\n",
      "    lr: 0.0015365378703487743\n",
      "    n_layers: 2\n",
      "    n_units_l0: 123\n",
      "    n_units_l1: 114\n",
      "    optimizer: RMSprop\n"
     ]
    }
   ],
   "source": [
    "trial = study.best_trial\n",
    "\n",
    "print(\"Best trial:\")\n",
    "print(\"    Value: \", trial.value)\n",
    "\n",
    "print(\"Params: \")\n",
    "for key, value in trial.params.items():\n",
    "    print(\"    {}: {}\".format(key, value))"
   ]
  },
  {
   "cell_type": "markdown",
   "metadata": {
    "slideshow": {
     "slide_type": "slide"
    }
   },
   "source": [
    "## ok, but...\n",
    "<img src=\"img/talk-is-cheap-show-me-the-code.jpg\"/>"
   ]
  },
  {
   "cell_type": "markdown",
   "metadata": {
    "slideshow": {
     "slide_type": "skip"
    }
   },
   "source": [
    "This tutorial will use the following notebooks to explain the implementation of the optimization study:\n",
    "\n",
    "* `opt_tutorial_1.ipynb` (running model without optuna)\n",
    "* `opt_tutorial_2.ipynb` (running the optimization study with optuna)\n",
    "* `opt_tutorial_3.ipynb` (Data visualization)"
   ]
  },
  {
   "cell_type": "markdown",
   "metadata": {
    "slideshow": {
     "slide_type": "slide"
    }
   },
   "source": [
    "# Tks!\n",
    "\n",
    "**e-mail:** jefferson@fialhocoelho.com.br\n",
    "\n",
    "**tutorial repo:** [github.com/fialhocoelho/optune-tutorial](https://github.com/fialhocoelho/optune-tutorial)"
   ]
  }
 ],
 "metadata": {
  "celltoolbar": "Slideshow",
  "kernelspec": {
   "display_name": "[Python3] Jeff ML Default",
   "language": "python",
   "name": "ml_default"
  },
  "language_info": {
   "codemirror_mode": {
    "name": "ipython",
    "version": 3
   },
   "file_extension": ".py",
   "mimetype": "text/x-python",
   "name": "python",
   "nbconvert_exporter": "python",
   "pygments_lexer": "ipython3",
   "version": "3.7.6"
  }
 },
 "nbformat": 4,
 "nbformat_minor": 1
}
